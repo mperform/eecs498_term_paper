{
 "cells": [
  {
   "cell_type": "code",
   "execution_count": 4,
   "metadata": {},
   "outputs": [],
   "source": [
    "import numpy as np\n",
    "import pandas as pd"
   ]
  },
  {
   "cell_type": "code",
   "execution_count": 17,
   "metadata": {},
   "outputs": [],
   "source": [
    "left = pd.DataFrame({'A': ['A0', 'A1', 'A2'],\n",
    "'B': ['B0', 'B1', 'B2']},\n",
    "index=['K0', 'K1', 'K2'])\n",
    "right = pd.DataFrame({'C': ['C0', 'C2', 'C3'],\n",
    "'D': ['D0', 'D2', 'D3']},\n",
    "index=['K0', 'K2', 'K3'])\n"
   ]
  },
  {
   "cell_type": "code",
   "execution_count": 18,
   "metadata": {},
   "outputs": [
    {
     "data": {
      "text/html": [
       "<div>\n",
       "<style scoped>\n",
       "    .dataframe tbody tr th:only-of-type {\n",
       "        vertical-align: middle;\n",
       "    }\n",
       "\n",
       "    .dataframe tbody tr th {\n",
       "        vertical-align: top;\n",
       "    }\n",
       "\n",
       "    .dataframe thead th {\n",
       "        text-align: right;\n",
       "    }\n",
       "</style>\n",
       "<table border=\"1\" class=\"dataframe\">\n",
       "  <thead>\n",
       "    <tr style=\"text-align: right;\">\n",
       "      <th></th>\n",
       "      <th>A</th>\n",
       "      <th>B</th>\n",
       "      <th>C</th>\n",
       "      <th>D</th>\n",
       "    </tr>\n",
       "  </thead>\n",
       "  <tbody>\n",
       "    <tr>\n",
       "      <th>K0</th>\n",
       "      <td>A0</td>\n",
       "      <td>B0</td>\n",
       "      <td>C0</td>\n",
       "      <td>D0</td>\n",
       "    </tr>\n",
       "    <tr>\n",
       "      <th>K1</th>\n",
       "      <td>A1</td>\n",
       "      <td>B1</td>\n",
       "      <td>NaN</td>\n",
       "      <td>NaN</td>\n",
       "    </tr>\n",
       "    <tr>\n",
       "      <th>K2</th>\n",
       "      <td>A2</td>\n",
       "      <td>B2</td>\n",
       "      <td>C2</td>\n",
       "      <td>D2</td>\n",
       "    </tr>\n",
       "  </tbody>\n",
       "</table>\n",
       "</div>"
      ],
      "text/plain": [
       "     A   B    C    D\n",
       "K0  A0  B0   C0   D0\n",
       "K1  A1  B1  NaN  NaN\n",
       "K2  A2  B2   C2   D2"
      ]
     },
     "execution_count": 18,
     "metadata": {},
     "output_type": "execute_result"
    }
   ],
   "source": [
    "left.join(right)"
   ]
  },
  {
   "cell_type": "code",
   "execution_count": 19,
   "metadata": {},
   "outputs": [
    {
     "name": "stdout",
     "output_type": "stream",
     "text": [
      "success 1\n",
      "is 1\n",
      "the 1\n",
      "sum 1\n",
      "of 1\n",
      "small 1\n",
      "efforts 1\n",
      "repeated 1\n",
      "day 2\n",
      "in 1\n",
      "and 1\n",
      "out 1\n"
     ]
    }
   ],
   "source": [
    "from collections import Counter\n",
    "import re\n",
    "\n",
    "# Function to count the frequency of each word in a phrase\n",
    "def word_frequency(phrase):\n",
    "    # Remove punctuation from the phrase and convert it to lowercase\n",
    "    cleaned_phrase = re.sub(r'[^\\w\\s]', '', phrase).lower()\n",
    "    # Split the phrase into words\n",
    "    words = cleaned_phrase.split()\n",
    "    # Count the frequency of each word\n",
    "    word_count = Counter(words)\n",
    "    return word_count\n",
    "\n",
    "# Example usage:\n",
    "phrase = \"Success is the sum of small efforts repeated day in and day out\"\n",
    "frequency_count = word_frequency(phrase)\n",
    "\n",
    "# Print the frequency count for each word\n",
    "for word, count in frequency_count.items():\n",
    "    print(f\"{word} {count}\")\n"
   ]
  },
  {
   "cell_type": "code",
   "execution_count": 20,
   "metadata": {},
   "outputs": [
    {
     "name": "stdout",
     "output_type": "stream",
     "text": [
      "Small Ticket\n",
      "No Ticket\n",
      "Big Ticket\n"
     ]
    }
   ],
   "source": [
    "def assess_speeding(speed, is_birthday):\n",
    "    # Adjust speed for birthday\n",
    "    adjusted_speed = speed - (5 if is_birthday else 0)\n",
    "    \n",
    "    # Check speed against the limits\n",
    "    if adjusted_speed <= 60:\n",
    "        return \"No Ticket\"\n",
    "    elif 61 <= adjusted_speed <= 80:\n",
    "        return \"Small Ticket\"\n",
    "    else:\n",
    "        return \"Big Ticket\"\n",
    "\n",
    "# Example usage:\n",
    "print(assess_speeding(65, False))  # Expected: Small Ticket\n",
    "print(assess_speeding(65, True))   # Expected: No Ticket\n",
    "print(assess_speeding(85, False))  # Expected: Big Ticket\n"
   ]
  }
 ],
 "metadata": {
  "kernelspec": {
   "display_name": "Python 3",
   "language": "python",
   "name": "python3"
  },
  "language_info": {
   "codemirror_mode": {
    "name": "ipython",
    "version": 3
   },
   "file_extension": ".py",
   "mimetype": "text/x-python",
   "name": "python",
   "nbconvert_exporter": "python",
   "pygments_lexer": "ipython3",
   "version": "3.10.11"
  }
 },
 "nbformat": 4,
 "nbformat_minor": 2
}
